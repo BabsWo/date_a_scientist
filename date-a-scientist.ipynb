{
 "cells": [
  {
   "cell_type": "markdown",
   "metadata": {},
   "source": [
    "This is a notebook for a Date A Scientist portfolio project from Codecademy.\n",
    "\n",
    "\n",
    "DATA: Profile information for users of OK cupid\n",
    "ASSESSMENT: What are some predictive relationships between variables?\n",
    "QUESTION: Is there a predictive relationship between length of answers to questions and income? If so, can OK Cupid assume a certain type of income based on how much the user types in their profile?\n",
    "\n",
    "\n"
   ]
  },
  {
   "cell_type": "code",
   "execution_count": 2,
   "metadata": {},
   "outputs": [],
   "source": [
    "import numpy as np\n",
    "import pandas as pd\n",
    "import matplotlib.pyplot as plt\n"
   ]
  },
  {
   "cell_type": "code",
   "execution_count": 3,
   "metadata": {},
   "outputs": [
    {
     "name": "stdout",
     "output_type": "stream",
     "text": [
      "Index(['age', 'body_type', 'diet', 'drinks', 'drugs', 'education', 'essay0',\n",
      "       'essay1', 'essay2', 'essay3', 'essay4', 'essay5', 'essay6', 'essay7',\n",
      "       'essay8', 'essay9', 'ethnicity', 'height', 'income', 'job',\n",
      "       'last_online', 'location', 'offspring', 'orientation', 'pets',\n",
      "       'religion', 'sex', 'sign', 'smokes', 'speaks', 'status'],\n",
      "      dtype='object')\n",
      "20034.030627564807\n",
      "0    1\n",
      "1    0\n",
      "2    1\n",
      "3    0\n",
      "4    1\n",
      "Name: is_broke, dtype: int64\n",
      "0    0\n",
      "1    2\n",
      "2    0\n",
      "3    0\n",
      "4    0\n",
      "Name: is_rich, dtype: int64\n",
      "0    1\n",
      "1    2\n",
      "2    1\n",
      "3    0\n",
      "4    1\n",
      "Name: incomescale, dtype: int64\n"
     ]
    }
   ],
   "source": [
    "#EDA first, must figure out the various types of data, what is stored in this file, etc before I come up with a question\n",
    "profiles = pd.read_csv('profiles.csv')\n",
    "print(profiles.columns)\n",
    "\n",
    "\n",
    "di1 = {'single': 0, 'available': 1, 'seeing someone': 2, 'married': 3, 'unknown': 4}\n",
    "profiles['status'] = profiles['status'].map(di1)\n",
    "\n",
    "\n",
    "profiles['essay0'] = profiles['essay0'].astype(str)\n",
    "\n",
    "profiles.income = profiles.income.replace(-1, 0)\n",
    "print(profiles.income.mean())\n",
    "\n",
    "profiles['is_broke'] = np.where(profiles['income'] == 0, 1, 0)\n",
    "print(profiles.is_broke.head())\n",
    "\n",
    "profiles['is_rich'] = np.where(profiles['income'] > 50000, 2, 0)\n",
    "print(profiles.is_rich.head())\n",
    "\n",
    "profiles['incomescale'] = profiles['is_broke'] + profiles['is_rich']\n",
    "\n",
    "print(profiles.incomescale.head())\n",
    "\n"
   ]
  },
  {
   "cell_type": "markdown",
   "metadata": {},
   "source": [
    "OK so I think an ML solvable problem is determing how much a person says they make (income) based on how much they write in the first essay question and age!!!\n",
    "\n",
    "Income scale definition = 1: makes $0 as reported, 0: makes between $0 and $50,000, 2: makes > $50000\n",
    "\n"
   ]
  },
  {
   "cell_type": "code",
   "execution_count": 4,
   "metadata": {},
   "outputs": [
    {
     "name": "stdout",
     "output_type": "stream",
     "text": [
      "   age       body_type               diet    drinks      drugs  \\\n",
      "0   22  a little extra  strictly anything  socially      never   \n",
      "1   35         average       mostly other     often  sometimes   \n",
      "2   38            thin           anything  socially        NaN   \n",
      "3   23            thin         vegetarian  socially        NaN   \n",
      "4   29        athletic                NaN  socially      never   \n",
      "\n",
      "                           education  \\\n",
      "0      working on college/university   \n",
      "1              working on space camp   \n",
      "2     graduated from masters program   \n",
      "3      working on college/university   \n",
      "4  graduated from college/university   \n",
      "\n",
      "                                              essay0  \\\n",
      "0  about me:<br />\\n<br />\\ni would love to think...   \n",
      "1  i am a chef: this is what that means.<br />\\n1...   \n",
      "2  i'm not ashamed of much, but writing public te...   \n",
      "3          i work in a library and go to school. . .   \n",
      "4  hey how's it going? currently vague on the pro...   \n",
      "\n",
      "                                              essay1  \\\n",
      "0  currently working as an international agent fo...   \n",
      "1  dedicating everyday to being an unbelievable b...   \n",
      "2  i make nerdy software for musicians, artists, ...   \n",
      "3          reading things written by old dead people   \n",
      "4                         work work work work + play   \n",
      "\n",
      "                                              essay2  \\\n",
      "0  making people laugh.<br />\\nranting about a go...   \n",
      "1  being silly. having ridiculous amonts of fun w...   \n",
      "2  improvising in different contexts. alternating...   \n",
      "3  playing synthesizers and organizing books acco...   \n",
      "4  creating imagery to look at:<br />\\nhttp://bag...   \n",
      "\n",
      "                                              essay3  ...  \\\n",
      "0  the way i look. i am a six foot half asian, ha...  ...   \n",
      "1                                                NaN  ...   \n",
      "2  my large jaw and large glasses are the physica...  ...   \n",
      "3                  socially awkward but i do my best  ...   \n",
      "4            i smile a lot and my inquisitive nature  ...   \n",
      "\n",
      "                                   religion sex  \\\n",
      "0     agnosticism and very serious about it   m   \n",
      "1  agnosticism but not too serious about it   m   \n",
      "2                                       NaN   m   \n",
      "3                                       NaN   m   \n",
      "4                                       NaN   m   \n",
      "\n",
      "                                 sign     smokes  \\\n",
      "0                              gemini  sometimes   \n",
      "1                              cancer         no   \n",
      "2  pisces but it doesn&rsquo;t matter         no   \n",
      "3                              pisces         no   \n",
      "4                            aquarius         no   \n",
      "\n",
      "                                              speaks status is_broke  is_rich  \\\n",
      "0                                            english      0        1        0   \n",
      "1  english (fluently), spanish (poorly), french (...      0        0        2   \n",
      "2                               english, french, c++      1        1        0   \n",
      "3                           english, german (poorly)      0        0        0   \n",
      "4                                            english      0        1        0   \n",
      "\n",
      "   incomescale essay0_length  \n",
      "0            1           243  \n",
      "1            2           135  \n",
      "2            1           250  \n",
      "3            0            11  \n",
      "4            1            40  \n",
      "\n",
      "[5 rows x 35 columns]\n"
     ]
    }
   ],
   "source": [
    "profiles['essay0_length'] = profiles.apply(lambda tweet: len(tweet['essay0'].split()), axis=1)\n",
    "print(profiles.head())"
   ]
  },
  {
   "cell_type": "code",
   "execution_count": 5,
   "metadata": {},
   "outputs": [],
   "source": [
    "from sklearn.model_selection import train_test_split\n",
    "from sklearn.neighbors import KNeighborsClassifier\n",
    "\n",
    "data = profiles[['essay0_length', 'age']]\n",
    "labels = profiles.incomescale\n",
    "data = data.dropna()\n",
    "labels = labels.dropna()\n",
    "\n"
   ]
  },
  {
   "cell_type": "code",
   "execution_count": 6,
   "metadata": {},
   "outputs": [],
   "source": [
    "train_data, test_data, train_labels, test_labels = train_test_split(data, labels, random_state =1)"
   ]
  },
  {
   "cell_type": "code",
   "execution_count": 7,
   "metadata": {},
   "outputs": [],
   "source": [
    "classifier = KNeighborsClassifier(n_neighbors = 7)\n",
    "classifier.fit(train_data, train_labels)\n",
    "predictions = classifier.predict(test_data)\n",
    "predictions = predictions.tolist()\n"
   ]
  },
  {
   "cell_type": "code",
   "execution_count": 8,
   "metadata": {},
   "outputs": [
    {
     "data": {
      "image/png": "[encoded data removed]",
      "text/plain": [
       "<Figure size 432x288 with 1 Axes>"
      ]
     },
     "metadata": {
      "needs_background": "light"
     },
     "output_type": "display_data"
    }
   ],
   "source": [
    "scores = []\n",
    "\n",
    "for k in range(1, 25):\n",
    "    classifier = KNeighborsClassifier(n_neighbors = k)\n",
    "    classifier.fit(train_data, train_labels)\n",
    "    scores.append(classifier.score(test_data, test_labels))\n",
    "    \n",
    "    \n",
    "plt.plot(range(1, 25), scores)\n",
    "\n",
    "plt.title('best k value for KNeighborsClassifier')\n",
    "plt.xlabel('k-values')\n",
    "plt.ylabel('scores')\n",
    "plt.show()"
   ]
  },
  {
   "cell_type": "code",
   "execution_count": 12,
   "metadata": {},
   "outputs": [
    {
     "data": {
      "text/plain": [
       "Text(0, 0.5, 'predictions')"
      ]
     },
     "execution_count": 12,
     "metadata": {},
     "output_type": "execute_result"
    },
    {
     "data": {
      "image/png": "[encoded data removed]",
      "text/plain": [
       "<Figure size 432x288 with 2 Axes>"
      ]
     },
     "metadata": {
      "needs_background": "light"
     },
     "output_type": "display_data"
    }
   ],
   "source": [
    "plt.subplot(2,1,1)\n",
    "plt.scatter(test_data.essay0_length, predictions)\n",
    "plt.xlabel('essay length')\n",
    "plt.ylabel('prediction')\n",
    "plt.subplot(2,1,2)\n",
    "plt.scatter(test_data.age, predictions)\n",
    "plt.xlabel('age')\n",
    "plt.ylabel('predictions')\n"
   ]
  },
  {
   "cell_type": "code",
   "execution_count": 13,
   "metadata": {},
   "outputs": [
    {
     "data": {
      "text/plain": [
       "Text(0, 0.5, 'essay length')"
      ]
     },
     "execution_count": 13,
     "metadata": {},
     "output_type": "execute_result"
    },
    {
     "data": {
      "image/png": "[encoded data removed]",
      "text/plain": [
       "<Figure size 432x288 with 1 Axes>"
      ]
     },
     "metadata": {
      "needs_background": "light"
     },
     "output_type": "display_data"
    }
   ],
   "source": [
    "plt.scatter(test_data.age, test_data.essay0_length)\n",
    "plt.xlabel('age')\n",
    "plt.ylabel('essay length')"
   ]
  },
  {
   "cell_type": "markdown",
   "metadata": {},
   "source": [
    "There is no real relationship between how long a essay response you write and your age, however, there is predictive power in the age and essay lenght on the reported income of the individual. \n",
    "\n",
    "Income is an important attribute according to those who use the dating app. Based on twitter.\n",
    "However, I assumed that the -1 in the data set was a non -answer and that people who didn't want to answer were likely not making any money. Maybe the majority of them are college students or something. \n",
    "\n"
   ]
  },
  {
   "cell_type": "code",
   "execution_count": null,
   "metadata": {},
   "outputs": [],
   "source": []
  },
  {
   "cell_type": "code",
   "execution_count": null,
   "metadata": {},
   "outputs": [],
   "source": []
  },
  {
   "cell_type": "code",
   "execution_count": null,
   "metadata": {},
   "outputs": [],
   "source": []
  },
  {
   "cell_type": "code",
   "execution_count": null,
   "metadata": {},
   "outputs": [],
   "source": []
  }
 ],
 "metadata": {
  "kernelspec": {
   "display_name": "Python 3",
   "language": "python",
   "name": "python3"
  },
  "language_info": {
   "codemirror_mode": {
    "name": "ipython",
    "version": 3
   },
   "file_extension": ".py",
   "mimetype": "text/x-python",
   "name": "python",
   "nbconvert_exporter": "python",
   "pygments_lexer": "ipython3",
   "version": "3.8.5"
  }
 },
 "nbformat": 4,
 "nbformat_minor": 4
}
